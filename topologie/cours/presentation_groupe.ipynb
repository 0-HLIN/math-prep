{
 "cells": [
  {
   "cell_type": "markdown",
   "id": "821af8c2",
   "metadata": {},
   "source": [
    "# Groupes et leur Présentations\n",
    "\n",
    "- Un *mot* dans un ensemble.\n",
    "- l'ensemble des classes d'équivalence des *mots*, *groupe libre engendré par $S$*.\n",
    "- $\\langle S|R \\rangle$ groupe de générateurs $S$ et relations $R$. \n",
    "- *Présentation* d'un groupe. \n",
    "- L'*amalgame* de $G1$ et $G2$ au dessus de $A$. \n",
    "- Théorème de Seifert-van Kampen"
   ]
  },
  {
   "cell_type": "markdown",
   "id": "badce4d2",
   "metadata": {},
   "source": [
    "![def amalgame](../img/def_amalgame.png)"
   ]
  },
  {
   "cell_type": "markdown",
   "id": "919b0ea2",
   "metadata": {},
   "source": []
  }
 ],
 "metadata": {
  "language_info": {
   "name": "python"
  }
 },
 "nbformat": 4,
 "nbformat_minor": 5
}
