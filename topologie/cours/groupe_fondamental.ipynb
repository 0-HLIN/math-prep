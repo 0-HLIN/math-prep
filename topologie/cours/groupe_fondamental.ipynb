{
 "cells": [
  {
   "cell_type": "markdown",
   "id": "12479ed7",
   "metadata": {},
   "source": [
    "# Cours, Notes, Compléments"
   ]
  },
  {
   "cell_type": "markdown",
   "id": "c86c9a90",
   "metadata": {},
   "source": [
    "## 3. Le groupe fondamental et les revetements\n",
    "\n",
    "### 3.1. Homotopie."
   ]
  },
  {
   "cell_type": "markdown",
   "id": "3eebb188",
   "metadata": {},
   "source": [
    "![def couple d'espaces topologiques](../img/def_couple_espace_topo.png)\n",
    "\n",
    "![def homotopie](../img/def_homotopie.png)"
   ]
  },
  {
   "cell_type": "markdown",
   "id": "cde02f38",
   "metadata": {},
   "source": [
    "**Remarque**\n",
    "\n",
    "- Homotopie est une déformation continue entre deux applications. "
   ]
  },
  {
   "cell_type": "markdown",
   "id": "1217e0a2",
   "metadata": {},
   "source": []
  }
 ],
 "metadata": {
  "language_info": {
   "name": "python"
  }
 },
 "nbformat": 4,
 "nbformat_minor": 5
}
