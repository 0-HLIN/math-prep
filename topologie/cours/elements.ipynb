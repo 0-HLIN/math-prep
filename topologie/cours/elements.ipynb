{
 "cells": [
  {
   "cell_type": "markdown",
   "id": "bab102be",
   "metadata": {},
   "source": [
    "**Théorème 2.41 (Urysohn)**\n",
    "\n",
    "Soit $X$ espace topologique $T3$ et $C2$, alors il est métrisable. "
   ]
  },
  {
   "cell_type": "markdown",
   "id": "b64241f5",
   "metadata": {},
   "source": [
    "![theorem_urysohn](../img/theorem_urysohn.png)"
   ]
  },
  {
   "cell_type": "markdown",
   "id": "c9ecea6f",
   "metadata": {},
   "source": [
    "<div style=\"background:#eef9ff; padding:10px; border-radius:4px; margin-top:8px;\">\n",
    "<strong>Quelques éléments à vérifier :</strong><br>\n",
    "\n",
    "- $f: X \\to [0,1]^\\mathbb{N}$ est injective\n",
    "\n",
    "Soit $x,y \\in X$ deux points distincts. Il existe $f_n$ telle que $f_n(x) \\neq 0$ et $f_n|_{\\{y\\}} = 0$ (X \\setminus \\{y\\}$ est un ouvert). Donc $f_n$ est injective. \n",
    "\n",
    "- $f: X \\to [0,1]^\\mathbb{N}$ est continue. \n",
    "\n",
    "- Soit $f$ un homéomorphisme entre $X$ et $Y$. Si $d$ une distance sur $Y$ alors $d(f(\\cdot), f(\\cdot))$ est une distance $X$ qui induit la topologie sur $X$. \n",
    "\n",
    "</div>"
   ]
  },
  {
   "cell_type": "markdown",
   "id": "b405254b",
   "metadata": {},
   "source": []
  }
 ],
 "metadata": {
  "language_info": {
   "name": "python"
  }
 },
 "nbformat": 4,
 "nbformat_minor": 5
}
