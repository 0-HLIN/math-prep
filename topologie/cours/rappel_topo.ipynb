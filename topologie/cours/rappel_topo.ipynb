{
 "cells": [
  {
   "cell_type": "markdown",
   "id": "71da7ae1",
   "metadata": {},
   "source": [
    "# Cours, Notes, Compléments"
   ]
  },
  {
   "cell_type": "markdown",
   "id": "4b2a4b67",
   "metadata": {},
   "source": [
    "### 2.4 Axiomes de séparabilité et de dénombrabilité"
   ]
  },
  {
   "cell_type": "markdown",
   "id": "404968a8",
   "metadata": {},
   "source": [
    "![def séparabilité](../img/def_separability.png)"
   ]
  },
  {
   "cell_type": "markdown",
   "id": "feff7787",
   "metadata": {},
   "source": [
    "**Exemples**\n",
    "\n",
    "On peut vérifier qu'un espace métrique satifait $T1-4$. Si notre intuition est souvent basée sur les espaces métriques, la question naturel est : à quoi ressemble un espace topologique non-Haussdorf ?\n",
    "\n",
    "Le site suivant donne de tels exemples : \\\n",
    "https://topology.pi-base.org/spaces?q=%7E%24T_2%24\n",
    "\n",
    "Un exemple est $X = \\mathbb{R} \\setminus \\mathbb{Z}$ avec topologie générée par la base $\\{(n,n+1) | n\\in\\mathbb{Z}\\}$. \n",
    "\n",
    "On voit dans cet example que la topologie sur $X$ est trop grossière pour séparer des points distincts. "
   ]
  },
  {
   "cell_type": "markdown",
   "id": "bab102be",
   "metadata": {},
   "source": [
    "**Théorème 2.41 (Urysohn)**\n",
    "\n",
    "Soit $X$ espace topologique $T3$ et $C2$, alors il est métrisable. "
   ]
  },
  {
   "cell_type": "markdown",
   "id": "b64241f5",
   "metadata": {},
   "source": [
    "![theorem_urysohn](../img/theorem_urysohn.png)"
   ]
  },
  {
   "cell_type": "markdown",
   "id": "c9ecea6f",
   "metadata": {},
   "source": [
    "<div style=\"background:#eef9ff; padding:10px; border-radius:4px; margin-top:8px;\">\n",
    "<strong>Quelques éléments à vérifier :</strong><br>\n",
    "\n",
    "- $f: X \\to [0,1]^\\mathbb{N}$ est injective\n",
    "\n",
    "Soit $x,y \\in X$ deux points distincts. Il existe $f_n$ telle que $f_n(x) \\neq 0$ et $f_n|_{\\{y\\}} = 0$ (X \\setminus \\{y\\}$ est un ouvert). Donc $f_n$ est injective. \n",
    "\n",
    "- $f: X \\to [0,1]^\\mathbb{N}$ est continue. \n",
    "\n",
    "- Soit $f$ un homéomorphisme entre $X$ et $Y$. Si $d$ une distance sur $Y$ alors $d'(x,y) := d(f(\\cdot), f(\\cdot))$ est une distance $X$ qui induit la topologie sur $X$. \n",
    "\n",
    "En utilisant la bijection de $f$, on vérifier facilement que la fonction $d'$ st bien est une distance. \n",
    "\n",
    "Il reste à montrer que $d'$ induit la topologie sur $X$. Notons $\\tau$ la topologie (selon laquelle $f$ est homéomorphisme) sur $X$ et $\\tau'$ la topologie induite par $d'$. Il s'agit de montrer que $\\tau = \\tau'$\n",
    "\n",
    "($\\tau' \\subseteq \\tau$) :\n",
    "\n",
    "Remarquons que l'image réciproque d'une boule ouverte est une boule ouverte :\n",
    "$$\\begin{align*}\n",
    "B_X(x, r) \n",
    "&:= \\{y\\in X: d'(x,y) < r\\} \\\\\n",
    "&= \\{y\\in X: d(f(x),f(y)) < r \\} \\\\\n",
    "&= \\{f^{-1}(z): z\\in Y, d(f(x),z) < r \\} \\\\\n",
    "&= f^{-1}(B_Y(f(x),r))\n",
    "\\end{align*}$$\n",
    "$f$ étant homéomorphisme, donc $B_X(x, r)$ est un ouvert selon $\\tau$. Comme $B_X(x, r)$ pour $x\\in X, r>0$ génère $\\tau'$. On conclut que $\\tau' \\subseteq \\tau$. \n",
    "\n",
    "($\\tau \\subseteq \\tau'$) :\n",
    "Soit $U$ un ouvert de $(X,\\tau)$ et $x\\in U$. Alors $f(U)$ est un ouvert de $(Y, d)$ et $f(x)\\in f(U)$. Il existe $r>0$ tel que $B_Y(f(x), r) \\subseteq f(U)$. On a vu que $B_X(x,r) = f^{-1}(B_Y(f(x),r))$ est une boule ouverte qui contient $x$. De plus $B_X(x,r) \\subseteq f^{-1}f(U) = U$. Donc $U \\in \\tau'$. \n",
    "\n",
    ".\n",
    "\n",
    "</div>"
   ]
  },
  {
   "cell_type": "markdown",
   "id": "b405254b",
   "metadata": {},
   "source": [
    "### 2.6 Compacité et Connexité"
   ]
  },
  {
   "cell_type": "markdown",
   "id": "e79f5f50",
   "metadata": {},
   "source": [
    "![def compacité](../img/def_compacity.png)"
   ]
  },
  {
   "cell_type": "markdown",
   "id": "e248ed6b",
   "metadata": {},
   "source": [
    "**Remarque** : *La compacité est une propriété assicié à un *espace* topologique.*\n",
    "\n",
    "La compacité ne dépend que de l'ensemble des ouverts. En pqrticulier, si $A\\subset B \\subset X$, la topologie de $A$ induit directement par $X$ et la même que la topologie induite par $B$ qui est muni de la topoligie induite par $X$. Alors on peut donc parler de la compacité d'un *sous ensemble* d'un espace topologique sans trop de risque. \n",
    "\n",
    "Néanmoins, l'ouverture et la clôture d'un ensemble sont relatives à l'espace ambiant. Soit $(X,\\tau)$ un espace topologique, $A\\subset B \\subset X$, est-ce qu'il y a une relation entre les deux proposition suivante ?\n",
    "1. $A$ est ouvert dans $B$.\n",
    "2. $A$ est ouvert dans $X$.\n",
    "\n",
    "Si on munit $B$ de la topologie induite par $X$, càd $\\tau_B = \\{U\\cap B | U\\in \\tau\\}$. Alors (2) implique (1). La proposition reste vrai si on remplace \"ouvert\" par \"fermé\". Intuitivement, si on est ouvert ou fermé dans un espace \"plus grand\", on le sera encore dans un son sous-espace \"plus petit\". "
   ]
  },
  {
   "cell_type": "markdown",
   "id": "214855cf",
   "metadata": {},
   "source": [
    "**Remarque** : *différentes notions de la compacité locale*\n",
    "\n",
    "D'après la recherche sur les ressource similaire au sujet de compacité, il n'y a pas qu'une notion universelle de compacité locale. Ici la compacité locale est définie par \"tout point admet une base de voisinages dont la clôture est comapcte\". Cette notion est référencée dans certaine litérature par \"weakly locally compact\". \n",
    "\n",
    "Voir page 390 du livre (https://www.pme-math.org/journal/issues/PMEJ.Vol.9.No.6.pdf) pour la comparaison des différentes notions de compacité locale. \n"
   ]
  },
  {
   "cell_type": "markdown",
   "id": "511d4a96",
   "metadata": {},
   "source": [
    "### 2.7 Connexité"
   ]
  },
  {
   "cell_type": "markdown",
   "id": "1b85ac43",
   "metadata": {},
   "source": [
    "![def connexité](../img/def_connexe.png)"
   ]
  },
  {
   "cell_type": "markdown",
   "id": "c47c369e",
   "metadata": {},
   "source": [
    "**Remarque**\n",
    "\n",
    "Connexité comme compacité est une propriété intrinsèque à un espace topologique et ne dépend que de la topologie (notion d'ouvert) sur un espace. En particulier, avec la topologie induite pour $A\\subset B\\subset (X,\\tau)$, $A$ est connexe dans $B$ ssi $A$ est connexe dans $X$ puisque la topologie est la même. "
   ]
  },
  {
   "cell_type": "markdown",
   "id": "a6c4467b",
   "metadata": {},
   "source": [
    "![def connexité locale](../img/def_connexe_local.png)"
   ]
  },
  {
   "cell_type": "markdown",
   "id": "52e29ffd",
   "metadata": {},
   "source": [
    "**Remarque** : *propriété local vs. global*\n",
    "\n",
    "On peut prouver que la *compacité* d'un espace Haussdorf implique (en montrant qu'il est $T3$) qu'il est locallement compact (base de voisinage de cloture compact) en tout point. Pourtant la *connexité* d'un espace n'implique pas la connexité locale, la connexité par arc non plus. \n",
    "\n",
    "![exemple connexité](../img/ex_connexe.png)\n",
    "\n",
    "Inversement, on peut voir que la connexité (resp. par arc) locale n'implique pas la connexité (resp. par arc) de l'espace. Il suffit de considérer l'espace formé de deux boules ouvertes disjointes d'un espace métrique. \n",
    "\n",
    "La connexité n'implique pas la connexité par arc. Considérons $X := \\{0\\}\\times [-1;1] \\cup \\{(x, \\sin (1/x)) | x > 0\\}$."
   ]
  },
  {
   "cell_type": "markdown",
   "id": "c4868713",
   "metadata": {},
   "source": []
  }
 ],
 "metadata": {
  "language_info": {
   "name": "python"
  }
 },
 "nbformat": 4,
 "nbformat_minor": 5
}
