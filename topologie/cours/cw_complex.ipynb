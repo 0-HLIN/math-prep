{
 "cells": [
  {
   "cell_type": "markdown",
   "id": "6c90508e",
   "metadata": {},
   "source": [
    "# CW Complex"
   ]
  },
  {
   "cell_type": "markdown",
   "id": "22f965f5",
   "metadata": {},
   "source": [
    "The following is the definition of a cell complex from Allen Hatcher's Algebraic Topology (AT): "
   ]
  },
  {
   "cell_type": "markdown",
   "id": "151a6f7e",
   "metadata": {},
   "source": [
    "![definition cell complex](../img/def_cell_complex.png)"
   ]
  },
  {
   "cell_type": "markdown",
   "id": "e5a66659",
   "metadata": {},
   "source": [
    "### Some Abuses of Language\n",
    "**Understanding topology of cell complex**\n",
    "\n",
    "The definition from AT constructs the space along with the topology recursively:\n",
    "$$\n",
    "    X^{n-1}, (D_\\alpha^n)_\\alpha \\to Y:= X^{n-1} \\bigsqcup_\\alpha D_\\alpha^n \\to Y/\\sim_n\n",
    "$$\n",
    "The spaces $X^{n-1}$ and $(D_\\alpha^n)_\\alpha$ are epquipped their own topology, then disjoint union and quotient operations induce naturally the topology of the new space. \n",
    "\n",
    "As a result, $X^{n}$ as a set of equivalent classes over $Y=X^{n-1} \\bigsqcup_\\alpha D_\\alpha^n$, is of complete different nature then $X^{n-1}$. For instance, if $x$ is an element of $X^{n-1} \\setminus \\phi({\\partial D_\\alpha^n})$ then $\\{x\\}$ is an element of $X_n$. \n",
    "\n",
    "This complication is however not desired: we would like to talk about $X_{n-1}$ as a subset of $X^n$ as our intuition tells us. A simple way is to instead consider the space $X^n := X^{n-1} \\bigsqcup_\\alpha e_\\alpha^n$ with the topology similar to the quotient topology on $Y/\\sim_n$. Notice that $X^n$ here is on bijection with $Y/\\sim_n$. Consequently, $U \\subset X^n$ is open iff (in the sense of definition) $U \\cap X_{n-1}$ is open and $U\\cap \\overline{e_\\alpha^n}$ is open for each $\\alpha$. \n",
    "\n",
    "Maybe a better way is to take the word \"quotient\" differently. Consider the mapping $q: Y\\to X^n$ which sends the pairs $x\\sim_n \\phi_\\alpha^n(x)$ to $\\phi_\\alpha^n(x)\\in X^{n-1}$ and behaves as identity elsewhere. Then $q$ is a identification map (since $X^n$ is equipped with final topology by $q$). As a consequence $X^n$ is homeomorphic to $Y/\\sim_n$ (see [quotient topology](./quotient_topology.ipynb)). Due to the final topology on $X^n$, $V\\subset X^n$ is open iff $q^{-1}(V)\\cap X^{n-1}$ and $q^{-1}(V)\\cap D_\\alpha^n$ are all open. \n",
    "\n",
    "\n",
    "**Cell $e_\\alpha^n$ and characteristic map $\\Phi_\\alpha$**\n",
    "\n",
    "For each $(D_\\alpha^n, \\phi_\\alpha^n)$, the characteristic is defined as a composition\n",
    "$$\n",
    "    \\Phi_\\alpha\\colon D_\\alpha^n\\hookrightarrow X^{n-1}\\sqcup_\\alpha D_\\alpha^n \\overset{q}{\\longrightarrow} X^n \\hookrightarrow X,\n",
    "$$\n",
    "where the first and the last maps are inclusions and $q$ is the identification map. With the remark in the previous paragraph, We can see that $\\Phi_\\alpha$ is homeomorphic from $\\mathrm{Int}(D_\\alpha^n)$ to its image in $X$. This image is called a *cell*, and denoted by $e_\\alpha^n$. \n",
    "\n",
    "**Properties**\n",
    "- $A \\subset X^n$ is open iff $A\\cap X^{n-1}$ is open in $X^{n-1}$ and $\\Phi_\\alpha(A)$ is open in each $D_\\alpha^n$. \n",
    "\n",
    "Intuition behind is that during the construction, only the disks $D_\\alpha^n$ are deformed (in such a way that the boundary can be glued onto $X^{n-1}$), but the previous space $X^{n-1}$ remain unchanged. "
   ]
  },
  {
   "cell_type": "markdown",
   "id": "457343a6",
   "metadata": {},
   "source": []
  }
 ],
 "metadata": {
  "language_info": {
   "name": "python"
  }
 },
 "nbformat": 4,
 "nbformat_minor": 5
}
