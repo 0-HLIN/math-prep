{
 "cells": [
  {
   "cell_type": "markdown",
   "id": "8da8ff6b",
   "metadata": {},
   "source": [
    "# Quotient Topology and Identification Map\n",
    "\n",
    "## Definitions and Properties\n",
    "\n",
    "ref: M. A. Armstrong, *Basic Topology*, Springer-Verlag, 1983"
   ]
  },
  {
   "cell_type": "markdown",
   "id": "0f8dd770",
   "metadata": {},
   "source": [
    "**Definition (Quotient topology)** \n",
    "\n",
    "Let $X$ be a topological space, $\\sim$ an equivalence relation on $X$. \n",
    "Denote by $X_{/\\sim} := \\{[x]: x\\in X\\}$ the set of equivalence classes and $p: X\\ni x \\mapsto [x]\\in X_{/\\sim}$. \n",
    "The *quotient space* under $\\sim$ is the set $X_{/\\sim}$ equipped with the final topology by $p$. This topology is called *quotient topology*. "
   ]
  },
  {
   "cell_type": "markdown",
   "id": "624ebcd3",
   "metadata": {},
   "source": [
    "**Remark**\n",
    "\n",
    "- As a consequence of the final topology, $U$ is open on $X_{/\\sim}$ iff $p^{-1}(U)$ is open. "
   ]
  },
  {
   "cell_type": "markdown",
   "id": "d8d2b080",
   "metadata": {},
   "source": [
    "**Theorem 1**\n",
    "\n",
    "With notion of the definition above. Let $Z$ any topological space. \n",
    "A function $f : X_{/\\sim}\\to Z$ is continuous iff $f\\circ p : X\\to Z$ is continuous. "
   ]
  },
  {
   "cell_type": "markdown",
   "id": "17457fe2",
   "metadata": {},
   "source": [
    "**Definition (Identification map)**\n",
    "\n",
    "A function $f: X\\to Y$ is called an *identification map* if it is surjective and $Y$ is equipped with the final topology by $f$. \n",
    "\n",
    "Then $f$ induces an equivalent relation: $x\\sim y$ if $f(x) = f(y)$. \n",
    "Denote \n",
    "$$\n",
    "    Y_* := X_{/\\sim} = \\{ \\{f^{-1}(y)\\} | y\\in Y \\},\n",
    "$$\n",
    "then we have the following\n",
    "\n",
    "\n",
    "**Theorem 2**\n",
    "\n",
    "(a) the space $Y$ and $Y_*$ are homeomorphic;\n",
    "\n",
    "(b) a function $g: Y\\to Z$ is continuous iff $g\\circ f: X\\to Z$ is continuous. "
   ]
  },
  {
   "cell_type": "markdown",
   "id": "b99096e1",
   "metadata": {},
   "source": [
    "**Theorem 3**\n",
    "\n",
    "Let $f:X\\to Y$ be a continuous onto map. If $f$ maps open sets of $X$ to open sets of $y$, or closed sets to closed sets, then $f$ is an identification map. \n",
    "\n",
    "**Corollary 4**\n",
    "\n",
    "Let $f:X\\to Y$ be a continuous onto map. If $X$ is compact and $Y$ is is Hausdorff, then $f$ is an identification map. "
   ]
  },
  {
   "cell_type": "markdown",
   "id": "a364e14b",
   "metadata": {},
   "source": [
    "---\n"
   ]
  },
  {
   "cell_type": "markdown",
   "id": "4282e154",
   "metadata": {},
   "source": [
    "## Loops as function on $I$ or on $S^1$?\n",
    "\n",
    "We may come across slightly different definitions of loop in different materials. Some define it as a continuous function $f: I\\to X$ such that $f(0)=f(1)$ while some define it as continuous funciton on $S^1 \\subset \\mathbb{R}^2$. Some use these definitions interchangeably. \n",
    "\n",
    "The above results on quotient topology will help to see how these definitions are closely related. \n",
    "\n",
    "It is also a common choice to consider $S^1 \\subset \\mathbb{C}$ as circle in the complex plane. Given the isometry between $\\mathbb{R}^2$ and $\\mathbb{C}$ both considered as $\\mathbb{R}$ vector spaces, homeomorphism is clear. "
   ]
  },
  {
   "cell_type": "markdown",
   "id": "a5e71a11",
   "metadata": {},
   "source": [
    "We will prove a more general result. \n",
    "\n",
    "**Proposition**\n",
    "\n",
    "Let $f: X\\to Y$ be an identification map. \n",
    "Let $g: X\\to Z$ such that \n",
    "$$\n",
    "    \\forall x_1,x_2\\in X, f(x_1)=f(x_2) \\implies g(x_1)=g(x_2).\n",
    "$$\n",
    "\n",
    "Then there is an unique continuous function $h: Y\\to Z$, such that $h\\circ f = g$. \n",
    "\n",
    "**Proof**\n",
    "\n",
    "$h$ is actually the function that maps each equivalent class of $X$ to its common value in $Z$ by $g$. \n",
    "\n",
    "Let $y\\in Y$, and $x\\in f^{-1}(\\{y\\})$. $x$ exists because $f$ is surjective. Then we define $h(y) := g(x)$. It is easy to check that $h$ is well defined: if $x_1, x_2\\in f^{-1}(\\{y\\})$, then $f(x_1)=f(x_2)$ and by hypothesis $g(x_1)=g(x_2)$. We can also see that $h\\circ f = g$ is continuous thus $h$ is continuous by *Theorem 2 b)*. \n",
    "\n",
    "$f$ is surjective then the relation $h\\circ f = g$ makes $h$ unique. \n",
    "\n",
    ". _ ."
   ]
  },
  {
   "cell_type": "markdown",
   "id": "e795a67e",
   "metadata": {},
   "source": [
    "Now consider the spaces $I$ and $S^1$. \n",
    "\n",
    "**Loops**\n",
    "\n",
    "Let $f: I\\ni t \\mapsto (\\cos 2\\pi t, \\sin 2\\pi t) \\in S^1$. It is continuous and surjective. Moreover, $I$ is compact and $S^1$ is Hausdorf, then by *Corollary 4*, $f$ is an identification map. \n",
    "\n",
    "If $g: (I, 0)\\to (X, x_0)$ is a loop. Then there exist a loop $h: (S^1, (1,0))\\to (X,x_0)$ tracing the same path on $X$ (note that $h(S^1) = g(I)$).\n",
    "\n",
    "Conversely, if $h: (S^1, (1,0))\\to (X,x_0)$ a loop, then $h\\circ f: (I,0) \\to (X,x_0)$ defines a similar path but parameterised with $I$. \n",
    "\n",
    "**Loop concatenation**\n",
    "\n",
    "**Homotopies**\n"
   ]
  },
  {
   "cell_type": "markdown",
   "id": "ac3ed4d3",
   "metadata": {},
   "source": []
  }
 ],
 "metadata": {
  "language_info": {
   "name": "python"
  }
 },
 "nbformat": 4,
 "nbformat_minor": 5
}
