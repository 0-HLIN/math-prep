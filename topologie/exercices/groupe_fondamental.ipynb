{
 "cells": [
  {
   "cell_type": "markdown",
   "id": "3d216b71",
   "metadata": {},
   "source": [
    "Template\n",
    "\n",
    "<div style=\"background:#eef9ff; padding:10px; border-radius:4px; margin-top:8px;\">\n",
    "<strong>Solution :</strong><br>\n",
    "</div>\n",
    "\n",
    "---"
   ]
  },
  {
   "cell_type": "markdown",
   "id": "e94595d6",
   "metadata": {},
   "source": [
    "![exercice homotopie définit une équivalence](../img/exercice_homotopie_eq.png)"
   ]
  },
  {
   "cell_type": "markdown",
   "id": "8ba6fe30",
   "metadata": {},
   "source": [
    "<div style=\"background:#eef9ff; padding:10px; border-radius:4px; margin-top:8px;\">\n",
    "<strong>Solution :</strong><br>\n",
    "\n",
    "(Réflexivité)\n",
    "\n",
    "Soit $f:(X,A)\\to (Y,B)$ une fonction continue. On définit $F(x,t):=f(x)$. Alors pour ouvert $V \\subset Y$, on voit que $F^{-1}(V) = f^{-1}(V)\\times [0,1]$ est un ouvert comme produit d'ouvert. Donc $F$ est continue et $f\\simeq f$. \n",
    "\n",
    "(symmétrie)\n",
    "\n",
    "Soient $f,g:(X,A) \\to (Y,B)$ avec $f\\simeq g$ : il existe $F:X\\times [0,1]\\to Y$ continue telle que $F(x,0) = f(x)$ et $F(x,1) = g(x)$. On pose $H(x,t) := F(x,1-t)$. $H$ est continue comme composition de deux fonction continue. Et on a $H(x,0)=g(x)$ et $H(x,1)=f(x)$. Donc $g\\simeq f$ ce qui prouve la symmétrie. \n",
    "\n",
    "(transitivité)\n",
    "\n",
    "Soient $f\\simeq g$ par l'homotopie $F$ et $g\\simeq h$ par $G$. On définit \n",
    "\n",
    "$$\n",
    "    H(x,t)= \n",
    "\\begin{cases}\n",
    "    F(x,2t),   & \\text{if } x \\in [0,1/2]\\\\\n",
    "    G(x,2t-1), & \\text{if } x \\in [1/2,1]\n",
    "\\end{cases}\n",
    "$$\n",
    "Chacun des morceaux étant continue, on utilise le lemme de recollement suivant pour montrer la continuité de $H$. \n",
    "\n",
    "*Lemme (recollement de fonctions continues) : Si $X = A \\cup B$ où $A$ et $B$ sont fermés dans $X$, $f:A\\to Y$ et $g:B\\to Y$ continues qui coïncident sur $A\\cap B$ alors la function combinée $h:X\\to Y$ définie par $h(x) = f(x)$ pour $x\\in A$ et $h(x) = g(x)$ pour $x\\in B$ est continue.*\n",
    "\n",
    "(référence du lemme : https://www.math.u-bordeaux.fr/~labessie/cours_top-geo_2014.pdf page 17)\n",
    "\n",
    "\n",
    "\n",
    "\n",
    "</div>"
   ]
  },
  {
   "cell_type": "markdown",
   "id": "df26217b",
   "metadata": {},
   "source": [
    "**Exercice 3.8**\n",
    "\n",
    "Prouver que $(\\mathbb{R}^n, \\{0\\})$ est homotopiquement équivalent à $(\\{pt\\},\\{pt\\})$. "
   ]
  },
  {
   "cell_type": "markdown",
   "id": "88ef9cef",
   "metadata": {},
   "source": [
    "<div style=\"background:#eef9ff; padding:10px; border-radius:4px; margin-top:8px;\">\n",
    "<strong>Solution :</strong><br>\n",
    "\n",
    "On définit $f: \\mathbb{R}^n\\to \\{p\\},\\ x\\mapsto p$ et $g: \\{p\\}\\to\\mathbb{R}^n,\\ p\\mapsto 0$. Elles sont continues car constantes. Alors leurs compositions aussi. Il reste à montrer que les compositions sont homotopes aux deux identités (des deux espaces) respectivement. \n",
    "\n",
    "On voit que $f\\circ g = Id_{\\{p\\}}$ et l'homotopie est triviale. \n",
    "\n",
    "Pour l'autre direction, $g\\circ f (x) = 0$ pour tout $x\\in\\mathbb{R}^n$. On voit que $F: (x,t) \\mapsto tx$ est une homotopie entre $g\\circ f$ et $Id_{\\mathbb{R}^n}$.\n",
    "\n",
    "</div>"
   ]
  },
  {
   "cell_type": "markdown",
   "id": "5e9492a7",
   "metadata": {},
   "source": []
  }
 ],
 "metadata": {
  "language_info": {
   "name": "python"
  }
 },
 "nbformat": 4,
 "nbformat_minor": 5
}
