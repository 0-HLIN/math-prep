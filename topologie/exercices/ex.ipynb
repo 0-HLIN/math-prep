{
 "cells": [
  {
   "cell_type": "markdown",
   "id": "54007095",
   "metadata": {},
   "source": [
    "# Tentatives de solutions\n"
   ]
  },
  {
   "cell_type": "markdown",
   "id": "97e92c1d",
   "metadata": {},
   "source": [
    "<div style=\"background:#eef9ff; padding:10px; border-radius:4px; margin-top:8px;\">\n",
    "<strong>Solution :</strong><br>\n",
    "\n",
    "</div>"
   ]
  },
  {
   "cell_type": "markdown",
   "id": "bc44f209",
   "metadata": {},
   "source": [
    "### 2 Rappel de Topologie Générale\n",
    " 2.4 Axiome de séparabnilité et de dénombrabilité"
   ]
  },
  {
   "cell_type": "markdown",
   "id": "5024d6f6",
   "metadata": {},
   "source": [
    "**Exercice 2.32**\n",
    "\n",
    "Soit $X$ un espace topologique. Montrer que $X$ est $T1$ ssi tous ses points sont des fermés. "
   ]
  },
  {
   "cell_type": "markdown",
   "id": "c02a4de6",
   "metadata": {},
   "source": [
    "<div style=\"background:#eef9ff; padding:10px; border-radius:4px; margin-top:8px;\">\n",
    "<strong>Solution :</strong><br>\n",
    "\n",
    "($\\Longrightarrow$) \n",
    "Soit $x\\in X$. Par hypothèse, pour tout $y\\neq x$, il existe $U_y \\ni y$ un ouvert tel que $x \\notin U_y$. Alors $\\cup_{y\\neq x} U_y$ est un ouvert qui contient tout point de l'espace sauf $x$. Son complément $\\{x\\}$ est fermé. \n",
    "\n",
    "($\\Longleftarrow$) Soient $x\\neq y$ deux points de l'espace. \n",
    "Par hypothèse $\\{y\\}$ est un fermé. \n",
    "Alors $X \\setminus \\{y\\}$ est un ouvert qui contient $x$ mais pas $y$. \n",
    "</div>"
   ]
  },
  {
   "cell_type": "markdown",
   "id": "9f2d5911",
   "metadata": {},
   "source": [
    "**Exercice 2.39**\n",
    "\n",
    "Montrer qu'un espace métrique est $T1$, $T2$, $T3$. Puis montrer qu'il est aussi $T4$. Montrer qu'il est aussi $C1$. "
   ]
  },
  {
   "cell_type": "markdown",
   "id": "1d5f98bb",
   "metadata": {},
   "source": [
    "<div style=\"background:#eef9ff; padding:10px; border-radius:4px; margin-top:8px;\">\n",
    "<strong>Solution :</strong><br>\n",
    "\n",
    "On se place dans un espace métrique. \n",
    "\n",
    "($T1$ et $T2$) :\n",
    "Soient $x$, $y$ deux points distincts de l'espace. \n",
    "On a ${d}(x,y) > 0$. Alors l'ouvert $B(x, {d}(x,y))$ convient pour $T1$. Les ouverts $B(x, {d}(x,y)/2)$ et $B(y, {d}(x,y)/2)$ convient pour $T2$. \n",
    "\n",
    "($T3$) :\n",
    "Soient $x \\in X$ et $F$ un fermé tel que $x\\notin F$. Il suffit de montrer que $r:= \\inf_{y\\in F} {d}(x,y) > 0$ de sorte que $B(x, r/2)$ et $\\cup_{y \\in X}B(y, r/2)$ conviennent. \n",
    "\n",
    "En effet, si $\\inf_{y\\in F} {d}(x,y) = 0$, il existerait une suite $(y_n)_n$ d'éléments de $F$ avec $\\lim_n {d}(x,y_n) = 0$ ce qui signifie $x$ est la limite de $(y_n)_n$. Comme $F$ est fermé, $x \\in F$, ce qui serait absurde. \n",
    "\n",
    "($T4$) :\n",
    "Soient $E$, $F$ deux fermés disjoints. Soit $x \\in E$. On a montré précédemment\n",
    "$$\n",
    "    r_x := \\inf_{y\\in F} {d}(x,y) > 0.\n",
    "$$\n",
    "Donc $B(x, r_x/2)$ est un ouvert contenant $x$ et $O_E:=\\cup_{x\\in E} B(x, r_x/2)$ est un ouvert contenant $E$. De manière similaire, on définit pour chaque $y\\in F$\n",
    "$$\n",
    "    r_y := \\inf_{x\\in E} {d}(x,y) > 0. \n",
    "$$\n",
    "Et pour la même raison, $O_F := \\cup_{y\\in F} B(y, r_y/2)$ est un ouvert contenant $F$. \n",
    "Il reste à montrer que ces deux ouverts sont disjoints. \n",
    "\n",
    "Supposon par l'absurde qu'il existe $a$ dans l'intersection des deux ouverts. Par definition de ces ouverts, il existe $x\\in E$ et $y\\in F$ tels que\n",
    "$$\n",
    "    d(a, x) < r_x/2 \\ \\text{et}\\ d(a, y) < r_y/2.\n",
    "$$\n",
    "On suppose d'abord que $r_x \\le r_y$. Ainsi,\n",
    "$$\n",
    "    d(x, y) \\le d(x,a) + d(a,y) < r_x/2 + r_y/2 \\le r_y\n",
    "$$\n",
    "Alors $r_y := \\inf_{x\\in E} {d}(x,y) \\le d(x,y) < r_y$ ce qui est absurde. \n",
    "\n",
    "Dans le cas $r_y \\le r_x$. On échange les rôles de $x$ et $y$, et arrive aussi à la contradiction. On conclut que $O_E$ et $O_F$ sont disjoints et que l'espace et $T4$. \n",
    "\n",
    "($C1$) :\n",
    "Soit $x \\in X$, $B(x, 1/n)$, $n \\in \\mathbb{N}^*$ constitue une base local dénombrable autour de $x$. \n",
    "\n",
    "</div>"
   ]
  },
  {
   "cell_type": "markdown",
   "id": "01d6e658",
   "metadata": {},
   "source": [
    "**Exercice 2.40**\n",
    "\n",
    "Montrer que $C2$ et $T3$ est aussi $T4$. "
   ]
  },
  {
   "cell_type": "markdown",
   "id": "0769ec92",
   "metadata": {},
   "source": [
    "<div style=\"background:#eef9ff; padding:10px; border-radius:4px; margin-top:8px;\">\n",
    "<strong>Solution :</strong><br>\n",
    "\n",
    "Soient $E$, $F$ deux fermés disjoints. Soit $x \\in E$. Il existe $U_x \\ni x$ et $U_{F,x} \\supseteq F$ ouverts disjoints. Alors $U_x \\subseteq X \\setminus U_{F,x}$. Passer en adhérance, on obtient $\\overline{U_x} \\subseteq X \\setminus U_{F,x}$ donc $\\overline{U_x} \\subseteq X \\setminus F$. \n",
    "\n",
    "De manière similaire, on a pour chaque $y \\in F$, un ouvert $V_y$ tel que $y \\in V_y$ et $\\overline{V_y} \\subseteq X \\setminus E$. \n",
    "\n",
    "Les ouverts $U$\n",
    "\n",
    "Maintenant on pose \n",
    "$$\n",
    "\n",
    "$$\n",
    "\n",
    "\n",
    "</div>"
   ]
  },
  {
   "cell_type": "markdown",
   "id": "f4fbad2d",
   "metadata": {},
   "source": []
  }
 ],
 "metadata": {
  "language_info": {
   "name": "python"
  }
 },
 "nbformat": 4,
 "nbformat_minor": 5
}
