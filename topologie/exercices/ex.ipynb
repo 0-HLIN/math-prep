{
 "cells": [
  {
   "cell_type": "markdown",
   "id": "54007095",
   "metadata": {},
   "source": [
    "# Tentatives de solutions\n"
   ]
  },
  {
   "cell_type": "markdown",
   "id": "97e92c1d",
   "metadata": {},
   "source": [
    "<div style=\"background:#eef9ff; padding:10px; border-radius:4px; margin-top:8px;\">\n",
    "<strong>Solution :</strong><br>\n",
    "\n",
    "</div>"
   ]
  },
  {
   "cell_type": "markdown",
   "id": "bc44f209",
   "metadata": {},
   "source": [
    "### 2 Rappel de Topologie Générale\n",
    "#### 2.4 Axiome de séparabnilité et de dénombrabilité"
   ]
  },
  {
   "cell_type": "markdown",
   "id": "5024d6f6",
   "metadata": {},
   "source": [
    "**Exercice 2.32**\n",
    "\n",
    "Soit $X$ un espace topologique. Montrer que $X$ est $T1$ ssi tous ses points sont des fermés. "
   ]
  },
  {
   "cell_type": "markdown",
   "id": "c02a4de6",
   "metadata": {},
   "source": [
    "<div style=\"background:#eef9ff; padding:10px; border-radius:4px; margin-top:8px;\">\n",
    "<strong>Solution :</strong><br>\n",
    "\n",
    "($\\Longrightarrow$) \n",
    "Soit $x\\in X$. Par hypothèse, pour tout $y\\neq x$, il existe $U_y \\ni y$ un ouvert tel que $x \\notin U_y$. Alors $\\cup_{y\\neq x} U_y$ est un ouvert qui contient tout point de l'espace sauf $x$. Son complément $\\{x\\}$ est fermé. \n",
    "\n",
    "($\\Longleftarrow$) Soient $x\\neq y$ deux points de l'espace. \n",
    "Par hypothèse $\\{y\\}$ est un fermé. \n",
    "Alors $X \\setminus \\{y\\}$ est un ouvert qui contient $x$ mais pas $y$. \n",
    "</div>"
   ]
  },
  {
   "cell_type": "markdown",
   "id": "9f2d5911",
   "metadata": {},
   "source": [
    "**Exercice 2.39**\n",
    "\n",
    "Montrer qu'un espace métrique est $T1$, $T2$, $T3$. Puis montrer qu'il est aussi $T4$. Montrer qu'il est aussi $C1$. "
   ]
  },
  {
   "cell_type": "markdown",
   "id": "1d5f98bb",
   "metadata": {},
   "source": [
    "<div style=\"background:#eef9ff; padding:10px; border-radius:4px; margin-top:8px;\">\n",
    "<strong>Solution :</strong><br>\n",
    "\n",
    "On se place dans un espace métrique. \n",
    "\n",
    "($T1$ et $T2$) :\n",
    "Soient $x$, $y$ deux points distincts de l'espace. \n",
    "On a ${d}(x,y) > 0$. Alors l'ouvert $B(x, {d}(x,y))$ convient pour $T1$. Les ouverts $B(x, {d}(x,y)/2)$ et $B(y, {d}(x,y)/2)$ convient pour $T2$. \n",
    "\n",
    "($T3$) :\n",
    "Soient $x \\in X$ et $F$ un fermé tel que $x\\notin F$. Il suffit de montrer que $r:= \\inf_{y\\in F} {d}(x,y) > 0$ de sorte que $B(x, r/2)$ et $\\cup_{y \\in X}B(y, r/2)$ conviennent. \n",
    "\n",
    "En effet, si $\\inf_{y\\in F} {d}(x,y) = 0$, il existerait une suite $(y_n)_n$ d'éléments de $F$ avec $\\lim_n {d}(x,y_n) = 0$ ce qui signifie $x$ est la limite de $(y_n)_n$. Comme $F$ est fermé, $x \\in F$, ce qui serait absurde. \n",
    "\n",
    "($T4$) :\n",
    "Soient $E$, $F$ deux fermés disjoints. Soit $x \\in E$. On a montré précédemment\n",
    "$$\n",
    "    r_x := \\inf_{y\\in F} {d}(x,y) > 0.\n",
    "$$\n",
    "Donc $B(x, r_x/2)$ est un ouvert contenant $x$ et $O_E:=\\cup_{x\\in E} B(x, r_x/2)$ est un ouvert contenant $E$. De manière similaire, on définit pour chaque $y\\in F$\n",
    "$$\n",
    "    r_y := \\inf_{x\\in E} {d}(x,y) > 0. \n",
    "$$\n",
    "Et pour la même raison, $O_F := \\cup_{y\\in F} B(y, r_y/2)$ est un ouvert contenant $F$. \n",
    "Il reste à montrer que ces deux ouverts sont disjoints. \n",
    "\n",
    "Supposon par l'absurde qu'il existe $a$ dans l'intersection des deux ouverts. Par definition de ces ouverts, il existe $x\\in E$ et $y\\in F$ tels que\n",
    "$$\n",
    "    d(a, x) < r_x/2 \\ \\text{et}\\ d(a, y) < r_y/2.\n",
    "$$\n",
    "On suppose d'abord que $r_x \\le r_y$. Ainsi,\n",
    "$$\n",
    "    d(x, y) \\le d(x,a) + d(a,y) < r_x/2 + r_y/2 \\le r_y\n",
    "$$\n",
    "Alors $r_y := \\inf_{x\\in E} {d}(x,y) \\le d(x,y) < r_y$ ce qui est absurde. \n",
    "\n",
    "Dans le cas $r_y \\le r_x$. On échange les rôles de $x$ et $y$, et arrive aussi à la contradiction. On conclut que $O_E$ et $O_F$ sont disjoints et que l'espace et $T4$. \n",
    "\n",
    "($C1$) :\n",
    "Soit $x \\in X$, $B(x, 1/n)$, $n \\in \\mathbb{N}^*$ constitue une base local dénombrable autour de $x$. \n",
    "\n",
    "</div>"
   ]
  },
  {
   "cell_type": "markdown",
   "id": "01d6e658",
   "metadata": {},
   "source": [
    "**Exercice 2.40**\n",
    "\n",
    "Montrer que $C2$ et $T3$ est aussi $T4$. "
   ]
  },
  {
   "cell_type": "markdown",
   "id": "0769ec92",
   "metadata": {},
   "source": [
    "<div style=\"background:#eef9ff; padding:10px; border-radius:4px; margin-top:8px;\">\n",
    "<strong>Solution :</strong><br>\n",
    "\n",
    "Soient $E$, $F$ deux fermés disjoints. Soit $x \\in E$. Il existe $U_x \\ni x$ et $U_{F,x} \\supseteq F$ ouverts disjoints. Alors $U_x \\subseteq X \\setminus U_{F,x}$. Passer en adhérance, on obtient $\\overline{U_x} \\subseteq X \\setminus U_{F,x}$ donc $\\overline{U_x} \\subseteq X \\setminus F$. \n",
    "\n",
    "Par la propriété $C2$, il existe une base dénombrarble $\\mathcal{B}$. Chaque ouvert est une union d'éléments de la base, en particulier $\\cup_{x\\in E} U_x = \\cup_{n\\in\\mathbb{N}} A_n$ avec $A_n \\in \\mathcal{B}, n\\in\\mathbb{N}$. Il est clair qu'on a encore $\\overline{A_n} \\subseteq X \\setminus F$. \n",
    "\n",
    "De manière similaire, On peut trouver ouverts $(B_n)_{n\\in\\mathbb{N}}$ tels que $F\\subseteq \\cup_n B_n$ et que $\\overline{B_n} \\subseteq X \\setminus E$ pour tout $n$. \n",
    "\n",
    "Maintenant on pose $A_0' := A_0 \\setminus \\overline{B_0}$ et $B_0' := B_0 \\setminus \\overline{B_0}$. On voit que $A_0 \\cap E = A_0' \\cap E$ (aucun élément de E n'est retiré par cette opération) et pour la même raison $B_0 \\cap F = B_0' \\cap F$. Ensuite \n",
    "$$\n",
    "    A_n' := A_n \\setminus \\bigcup_{i=0}^{n} \\overline{B_i} et B_n' := B_n \\setminus \\bigcup_{i=0}^{n} \\overline{A_i}\n",
    "$$\n",
    "On voit d'abord que $E \\subseteq \\cup_n A_n'$. En effet si $x \\in E$, il existe $A_n \\ni x$. Comme $overline{B_i} \\cap E = \\empty$, en particulier $x \\notin \\bigcup_{i=0}^{n} \\overline{B_i}$ et donc $x \\in A_n'$. Similairement, $F \\subseteq \\cup_n B_n'$. \n",
    "\n",
    "Deuxièmement, On voit que les ouverts $\\bigcup_n A_n'$ et $\\bigcup_n B_n'$ sont disjoints. Supposons le contraire, il existerait $x$ à l'intersection et $x\\in A_n' \\cap B_m'$ pour certains $m,n$. Sans perte de généralité, on peut supposer $n \\le m$. clairement $B_m' \\cap A_n' \\subseteq B_m' \\cap A_n \\subseteq B_m' \\cap \\overline{A_n} = \\empty$ ce qui serait absurde.  \n",
    "\n",
    "On conclusion $\\bigcup_n A_n'$ et $\\bigcup_n B_n'$ sont des ouverts disjoints contenant $E$ et $F$ respectivement. Donc l'espace est $T4$. \n",
    "\n",
    "</div>"
   ]
  },
  {
   "cell_type": "markdown",
   "id": "5ba4cd3c",
   "metadata": {},
   "source": [
    "**Remarque**\n",
    "On voit intuitivement que la propriété $C2$ (l'existance d'une base dénombrable) permet d'étendre certaines propriétés du fini à l'infini via les sequences (et la récurrence). "
   ]
  },
  {
   "cell_type": "markdown",
   "id": "7eedfee3",
   "metadata": {},
   "source": [
    "#### 2.6 Compacité et connexité"
   ]
  },
  {
   "cell_type": "markdown",
   "id": "f4fbad2d",
   "metadata": {},
   "source": [
    "**Exercice 2.46**\n",
    "\n",
    "Si $C \\subset X$ un sous ensemble compact et $X$ est Haussdorf alors $C$ est fermé de $X$. "
   ]
  },
  {
   "cell_type": "markdown",
   "id": "4a2e33a1",
   "metadata": {},
   "source": [
    "<div style=\"background:#eef9ff; padding:10px; border-radius:4px; margin-top:8px;\">\n",
    "<strong>Preuve :</strong><br>\n",
    "\n",
    "Soit $x \\in X\\setminus C$. Pour tout $y\\in C$, il existe $U_y \\ni x$ et $V_y \\ni y$ tels que $U_x \\cap V_y = \\empty$. $\\bigcup_{y\\in C} V_y$ est un recouvrement du compact $C$ donc il existe un recouvrement fini $\\bigcup_{i=0}^n V_{y_i}$ qui est clairement disjoint de $\\bigcup_{i=0}^n U_x$. Ce dernier est un ouvert contenant $x$ et contenu dans $X\\setminus C$. Donc $C$ est ouvert. \n",
    "\n",
    "</div>"
   ]
  },
  {
   "cell_type": "markdown",
   "id": "9013b4f0",
   "metadata": {},
   "source": [
    "**Exercice 2.47**\n",
    "\n",
    "Montrer que si $f:X\\to Y$ est une application conitnue et $X$ est quasi-compact (axiome de Borel-Lebesgue) alors $f(X)$ est quasi-compact. "
   ]
  },
  {
   "cell_type": "markdown",
   "id": "7cdefd1c",
   "metadata": {},
   "source": [
    "<div style=\"background:#eef9ff; padding:10px; border-radius:4px; margin-top:8px;\">\n",
    "<strong>Solution :</strong><br>\n",
    "\n",
    "Soient $\\bigcap_{i\\in I} V_i$ un recouvrement d'ouverts de $f(X)$. Alors $\\bigcup_{i\\in I} f^{-1}(V_i)$ est un recouvrement d'ouverts de $X$. $X$ est compact, il exist $k_i, i=1,..,n$, tels que $\\bigcup_{i=1}^n f^{-1}(V_{k_i}) \\supseteq X$. Alors $\\bigcup_{i=1}^n V_{k_i} \\supseteq f(X)$. D'où la quasi-compacité. \n",
    "\n",
    "</div>"
   ]
  },
  {
   "cell_type": "markdown",
   "id": "b9511652",
   "metadata": {},
   "source": [
    "**Exercice 2.48**\n",
    "Montrer que si $X$ est un espace métrique alors un compact $C\\subset X$ est fermé et borné. Montrer que la réciproque est vrai dans $\\mathbb{R}$. En déduire qu'une application continue $f:[a,b] \\to \\mathbb{R}$ admet un maximum et un minimum. "
   ]
  },
  {
   "cell_type": "markdown",
   "id": "543d379f",
   "metadata": {},
   "source": [
    "<div style=\"background:#eef9ff; padding:10px; border-radius:4px; margin-top:8px;\">\n",
    "<strong>Solution :</strong><br>\n",
    "\n",
    "- $C$ est fermé\n",
    "\n",
    "$X$ est une espace métrique donc Haussdorf, d'après $Ex 2.46$, $C$ est fermé. \n",
    "\n",
    "- $C$ est borné. \n",
    "\n",
    "Soit $x$ un point de $C$. Alors $\\bigcup_{n=1}^\\infty B(x, n)$ est un recouvrement d'ouverts de $C$. Par compacité, $C$ est recouvert par un nombre fini de telles boules. Notons $R$ la plus grande de ces boules, alors $C \\subset B(x,R)$. \n",
    "\n",
    "- Fermé borné de $\\mathbb{R}$ est compact. \n",
    "\n",
    "Lemme: Soit $K$ un compact de $X$, $C\\subset K$ un fermé de $X$, alors $C$ est compact dans $X$. \n",
    "\n",
    "Pr: Soit $\\bigcup_{i\\in I} V_i$ un recouvrement de $K$. Alors $(X\\setminus C) \\cup \\bigcup_{i\\in I} V_i$ est un recouvrement de $K$ qui est compact. Il existe pour $K$ un sous-recouvrement fini duquel on retire l'élément $X\\setminus C$ pour obtenir un sous-recouvrement de $C$. \n",
    "\n",
    "Il suffit alors de prouver que $[-R; R]$ est compact de $\\mathbb{R}$. On suppose par l'absurde qu'il y a un recourement infini. En procède récursivement de la manière suivante. A l'étape $k$, on écrit : \n",
    "$$\n",
    "    [-R;R] = \\bigcup_{i=0}^{2^k-1} [-R+2^{k-1}Ri; -R+2^{k-1}(i+1)R]\n",
    "$$\n",
    "Au moins un de ces intervalles (notons $I_k$) est recouvert par une infinité de ces ouvert. $x_k$ un élément de cet intervalle. A l'etape suivante on découpe $I_k$ en deux et ainsi de suite. On construit $I_1 \\supset I_2 \\supset .. \\supset I_k ..$ . \n",
    "\n",
    "Alors $(x_k)_k$ forme une suite convergente vers une limite $x$. Cet élément est recouvert par un certain ouvert (disons $U$) du recouvrement. Pourtant il existe $k_0$ tel que $I_{k_0} \\subset U$. Et on peut remplacer l'infinité d'ouverts qui recouvrent $I_{k_0}$ par $U$ simplement. \n",
    "\n",
    "(**?** je pense qu'il y a un problème mais j'espère pouvoir fixer : s'il y a une infinité de tels intervalles, je ne pourrai pas réduire le recouvrement en un nombre fini. Une autre façon de procéder la preuve est utiliser une équivalence de compacité dans un espace métrique : de toute suite on peut extraire une sous suite convergente. Et le découpage proposé permet de trouver la limite. )\n",
    "\n",
    "\n",
    "</div>"
   ]
  },
  {
   "cell_type": "markdown",
   "id": "c6c91ad6",
   "metadata": {
    "vscode": {
     "languageId": "markdown"
    }
   },
   "source": [
    "**Exercice 2.50**\n",
    "\n",
    "Montrer que si $X$ est un espace métrique compact, alors toute suite a au moins un point d'accumulation. "
   ]
  },
  {
   "cell_type": "markdown",
   "id": "b57fa87a",
   "metadata": {},
   "source": [
    "<div style=\"background:#eef9ff; padding:10px; border-radius:4px; margin-top:8px;\">\n",
    "<strong>Remarque :</strong><br>\n",
    "\n",
    "Lorsqu'un point d'accumulation d'un ensemble est un point dont tous voisinage contient au moins un autre point de l'ensemble (définition donnée dans la polycopié référencée), on ne peut pas considérer les points d'accumulation d'une suite en la transformant en l'ensemble des valeurs prises. En effet, une suite constante n'aura pas de valeur d'adhérance, ce qui n'est pas très intuitive ! Pour remédier à ça, on utilise la définition suivante\n",
    "\n",
    "*$a$ est un point d'accumulation d'une suite $(x_n)_n$ si pour tout voisinage $V$ de $a$ et tout rang $N$, il existe $n\\ge N$ tel que $x_n\\in V$*\n",
    "\n",
    "\n",
    "<strong>Preuve (de l'équivalence pour espace métrique):</strong><br>\n",
    "\n",
    "https://math.stackexchange.com/a/4201658/1540062\n",
    "\n",
    "Un outil utile dans la preuve : Lebesgue's number lemma (https://en.wikipedia.org/wiki/Lebesgue%27s_number_lemma).\n",
    "\n",
    "</div>"
   ]
  },
  {
   "cell_type": "markdown",
   "id": "5c8c5120",
   "metadata": {},
   "source": [
    "**Exercice 2.51**\n",
    "\n",
    "Soit $X=L^2([0,1])$ montrer que la boule unité de $X$ n'est pas comapct. "
   ]
  },
  {
   "cell_type": "markdown",
   "id": "852e3d05",
   "metadata": {},
   "source": [
    "<div style=\"background:#eef9ff; padding:10px; border-radius:4px; margin-top:8px;\">\n",
    "<strong>Solution :</strong><br>\n",
    "\n",
    "Considérons la suite de fonctions positives $(f_n)_{n\\ge 2}$ définies par $f_n^2(x) = n^2x$ sur $[0;1/n]$ et $f_n^2(x) = 2n-n^2x$ sur $]1/n;2/n]$. La suite est d'éléments dans la boule unité. \n",
    "La suite converge ponctuellement vers $0$ mais n'admet pas de limite au sens de $L^2$. Donc La boule unité n'est pas compact sequentielle, par Ex 2.50 elle n'est pas compacte. \n",
    "\n",
    "</div>"
   ]
  },
  {
   "cell_type": "markdown",
   "id": "1fa68909",
   "metadata": {},
   "source": [
    "**Exercice 2.56**\n",
    "- Si $x\\in X$ et $C_i, i\\in I$ des sous ensembles connexe de $X$ (chacun muni de la topologie induite) contenant $x$. Alors "
   ]
  }
 ],
 "metadata": {
  "language_info": {
   "name": "python"
  }
 },
 "nbformat": 4,
 "nbformat_minor": 5
}
