{
 "cells": [
  {
   "cell_type": "markdown",
   "id": "2e750e72",
   "metadata": {},
   "source": [
    "## Section 1.2 Van Kampen's Theorem - Exercises"
   ]
  },
  {
   "cell_type": "markdown",
   "id": "99f7f011",
   "metadata": {},
   "source": [
    "**1.** Show that the free product $G* H$ of nontrivial groups $G$ and $H$ has trivial center, and that the only elements of $G*H$ of finite order are the conjugates of finite-order elements of $G$ and $H$. "
   ]
  },
  {
   "cell_type": "markdown",
   "id": "be281490",
   "metadata": {},
   "source": [
    "<div style=\"background:#eef9ff; padding:10px; border-radius:4px; margin-top:8px;\">\n",
    "<strong>Solution :</strong><br>\n",
    "\n",
    "**i)**\n",
    "\n",
    "Let $z\\in G*H$ be an element of the center in reduced form. \n",
    "Assume that $z\\neq 0$, then it must starts with a letter from either $G$ or $H$. Without loss of generality, let the first letter be $g\\in G$. $H$ is nontrivial so $g$ does not commute with elements in $H$, then $z\\neq g$. Therefore $z$ must start with $gh$ with $h\\in H$. It is still impossible since $g^{-1}z$ would starts with $h$ while $zg^{-1}$ starts with $g$. We conclude that $z$ is the empty word and the center is trivial. \n",
    "\n",
    "**ii)** \n",
    "\n",
    "Note that conjugates of finite-order elements of $G$ and $H$ are necessarily finite-order in $G*H$. We will prove the other direction. \n",
    "\n",
    "Let $a$ be a finite-order word in $G*H$. The empty trivially satisfies the property so we assume $a$ is non empty. \n",
    "Then we notice that the length of $a$ cannot be even. If it was, the concatenation would not be reducible. \n",
    "Therefore the length must be odd, let $a=xgy$ for some $x$ and $y$ of the same length, $g$ an element of either $G$ or $H$. Suppose without loss of generality $g\\in G$. We want to first prove that $y=x^{-1}$. \n",
    "\n",
    "Suppose, for the sake of contradiction, that $yx \\neq e$. By construction, $yx$ must starts and ends with elements from $H$, then the letter $g$ surrounded by elements from $H$ cannot be reduced by repeated concatenation $a^m=xg(yx)gy...$. \n",
    "\n",
    "Now $y=x^{-1}$, then $e = a^m = xg^mx^{-1}$. Note by construction we have $x\\in H$, so we deduce that $g^m = e\\in G$. \n",
    "\n",
    "._.\n",
    "\n",
    "</div>"
   ]
  },
  {
   "cell_type": "markdown",
   "id": "4812d808",
   "metadata": {},
   "source": [
    "**2.** Let $X\\subset\\mathbb{R}^m$ be the union of convex open sets $X_1,\\dots, X_n$ such that $X_i\\cap X_j\\cap X_k \\neq \\empty$ for all $i,j,k$. Show that $X$ is simply connected. "
   ]
  },
  {
   "cell_type": "markdown",
   "id": "ef7809a5",
   "metadata": {},
   "source": [
    "<div style=\"background:#eef9ff; padding:10px; border-radius:4px; margin-top:8px;\">\n",
    "<strong>Solution :</strong><br>\n",
    "\n",
    "Given a path $f\\colon I\\to X$, we claim there exists partition $0=s_0<s_1<...<s_p=1$ of I such that for each interval $f([s_{i-1},s_i])\\subset X_{k(i)}$ for  some $k(i)$. Namely, since $f$ is continuous, each $s$ has an open neighborhood $V_s$ in $I$ mapped by $f$ to a single $X_{k(i)}$. We may take $V_s$ to be an interval whose closure is mapped to a single $X_{k(i)}$. Compactness of $I$ implies that a finite number of such intervals cover $I$. The ends points of this finite set of intervals then defines the desired partition. \n",
    "\n",
    "Denote $f_i$ the subpath of $f$ on $[s_{i-1}, s_i]$ such that $f = f_1f_2..f_p$. We will show that the loop $f$ is nullhomotopic by induction on $p$. \n",
    "\n",
    "In the following, we will denote $X_{k(i)}$ by $X_i$ for notational simplicity. \n",
    "\n",
    "If $p=2$, then $f = f_1f_2$, with $f_i$ lies in $X_i$, $i=1,2$. $f$ is a loop so $f_1(0) = f_2(1)\\in X_1\\cap X_2$. $f$ is homotopic to constant loop at $f_1(0)$ by homotopy $F(s, t) := t f_1(s) + (1-t)f(s)$. \n",
    "\n",
    "For $p\\ge 3$, let $f=f_1f_2f_3..$. where each subpath $f_i$ lies in $X_i$. Let $x_0 \\in X_1\\cap X_2\\cap X_3$. Then $f_2$ is homotopic to the concatenation of line segments $l := l_{[f_2(0), x_0]}\\star l_{[x_0, f_2(1)]}$ by homotopy $F(s, t) := t*l(s) + (1-t)f_2(s)$. Let $f_1' := f_1\\star l_{[f_2(0), x_0]}$ and $f_3' := l_{[x_0, f_2(1)]} \\star f_3$. Then $f_1f_2f_3 \\simeq f_1'f_2'$, the last being concatenation of paths in $X_1$ and $X_3$. We have reduced from case $p$ to $p-1$. \n",
    "\n",
    "We conclude that for all $p$, the path $f+f_1...f_p$ is nullhomotopic. Thus $X$ is simply connected. \n",
    "\n",
    "</div>"
   ]
  },
  {
   "cell_type": "markdown",
   "id": "5dd3a513",
   "metadata": {},
   "source": [
    "**3.** \n",
    "Show that the complement of a finite set of points in $\\mathbb{R}^n$ is simply connected if $n\\ge 3$. "
   ]
  },
  {
   "cell_type": "markdown",
   "id": "bd0c9930",
   "metadata": {},
   "source": [
    "<div style=\"background:#eef9ff; padding:10px; border-radius:4px; margin-top:8px;\">\n",
    "<strong>Solution :</strong><br>\n",
    "\n",
    "Let $X := \\mathbb{R}^n\\setminus \\{x_i\\in\\mathbb{R}^n: i=1,..,n\\}$. Let $r>0$ be such that $2r < \\min_{i\\neq j}{\\|x_i - x_j\\|}$ and $X':= \\mathbb{R}\\setminus \\bigcup_{i=1}^n B(x_i, r)$. \n",
    "\n",
    "Then $X$ is a deformation retract of $X'$. By attaching $n$-cells to $X'$ along boundaries of removed open balls, we obtain a new space $Y$. By *Proposition 1.26 (a)*, $\\pi_1(Y) \\simeq \\pi_1(X')$ is $n\\ge 3$. \n",
    "\n",
    "Here $Y$ deformation retracts to $\\mathbb{R}^n$ and is therefore simply connected. Then $X$ is also simply connected if $n\\ge 3$. \n",
    "\n",
    "</div>"
   ]
  },
  {
   "cell_type": "markdown",
   "id": "a261f3e0",
   "metadata": {},
   "source": [
    "**4.**\n",
    "Let $X\\subset \\mathbb{R}^3$ be the union of $n$ lines through the origin. Compute $\\pi_1(\\mathbb{R}^3 - X)$. "
   ]
  },
  {
   "cell_type": "markdown",
   "id": "d69d1b5a",
   "metadata": {},
   "source": [
    "<div style=\"background:#eef9ff; padding:10px; border-radius:4px; margin-top:8px;\">\n",
    "<strong>Solution :</strong><br>\n",
    "\n",
    "Let $Y:= \\mathbb{R}^3 - X$, then $Y$ deformation retracts to $S^2$ with $2n$ points removed by $f_t(x):=(1-t)x + t\\frac{x}{\\|x\\|}$. \n",
    "\n",
    "The latter is further homotopy equivalent to $\\mathbb{R}^2$ with $2n-1$ points removed, which can be seen using stereographic projection. \n",
    "\n",
    "Now this space is again homotopy equivalent to $\\bigcup_{i=1}^{2n-1} S^1(i,1/2)$ where $S^1(i, r)$ denotes the circle in $\\mathbb{R}^2$ of center $i$ and radius $r$. \n",
    "\n",
    "And this one is homotopy equivalent to the wedge sum of $2n-1$ shpere $S^1$. We have seen in *Example 1.21* in the book that its fundamental group is the free product of $2n-1$ copies of $\\mathbb{Z}$. \n",
    "\n",
    "</div>"
   ]
  },
  {
   "cell_type": "markdown",
   "id": "57eeb0e9",
   "metadata": {},
   "source": []
  }
 ],
 "metadata": {
  "language_info": {
   "name": "python"
  }
 },
 "nbformat": 4,
 "nbformat_minor": 5
}
