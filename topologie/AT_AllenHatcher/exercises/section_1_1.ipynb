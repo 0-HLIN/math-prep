{
 "cells": [
  {
   "cell_type": "markdown",
   "id": "91d7c306",
   "metadata": {
    "vscode": {
     "languageId": "plaintext"
    }
   },
   "source": [
    "Template\n",
    "\n",
    "<div style=\"background:#eef9ff; padding:10px; border-radius:4px; margin-top:8px;\">\n",
    "<strong>Solution :</strong><br>\n",
    "</div>"
   ]
  },
  {
   "cell_type": "markdown",
   "id": "42959df8",
   "metadata": {
    "vscode": {
     "languageId": "plaintext"
    }
   },
   "source": [
    "## Exercises"
   ]
  },
  {
   "cell_type": "markdown",
   "id": "5ff69a0e",
   "metadata": {},
   "source": [
    "**1.** Show that composition of paths satisfies the following cancellation property: if $f_0\\cdot g_0 \\simeq f_1\\cdot g_1$ and $g_0 \\simeq g_1$ then $f_0\\simeq f_1$. "
   ]
  },
  {
   "cell_type": "markdown",
   "id": "8509730a",
   "metadata": {},
   "source": [
    "<div style=\"background:#eef9ff; padding:10px; border-radius:4px; margin-top:8px;\">\n",
    "<strong>Solution :</strong><br>\n",
    "\n",
    "From $g_0 \\simeq g_1$ we deduce $g_0^{-1}\\simeq g_1^{-1}$ (inverse paths). \n",
    "Thus $f_0\\cdot g_0\\cdot g_0^{-1} \\simeq f_1\\cdot g_1 \\cdot g_1^{-1}$ then $f_0\\simeq f_1$.\n",
    "\n",
    "</div>"
   ]
  },
  {
   "cell_type": "markdown",
   "id": "a71f5b02",
   "metadata": {},
   "source": [
    "**2.** Show that the change-of-point homomorphism $\\beta_h$ depends only on the homotopy class of $h$. "
   ]
  },
  {
   "cell_type": "markdown",
   "id": "88d456d8",
   "metadata": {},
   "source": [
    "<div style=\"background:#eef9ff; padding:10px; border-radius:4px; margin-top:8px;\">\n",
    "<strong>Solution :</strong><br>\n",
    "\n",
    "Let $x_0, x_1 \\in X$ and $h\\colon I\\to X$ a path from $x_0$ to $x_1$. Then $\\beta_h\\colon \\pi_1(X,x_1)\\to \\pi_1(X,x_0)$ is defined by $\\beta_h[f] := [hfh^{-1}]$. By definition $[f][g] := [fg]$, therefore $[hfh^{-1}] = [h][f][h]^{-1}$ and we may conclude. \n",
    "</div>"
   ]
  },
  {
   "cell_type": "markdown",
   "id": "1d60bb04",
   "metadata": {},
   "source": [
    "**3.** For a path-connected space $X$, show that $\\pi_1(X)$ is abelian iff all basepoint-change homomorphisms $\\beta_h$ depend only on the endpoints of the path $h$. "
   ]
  },
  {
   "cell_type": "markdown",
   "id": "09f8e964",
   "metadata": {},
   "source": [
    "<div style=\"background:#eef9ff; padding:10px; border-radius:4px; margin-top:8px;\">\n",
    "<strong>Solution :</strong><br>\n",
    "\n",
    "($\\Longrightarrow$)\n",
    "\n",
    "Let $x_0, x_1 \\in X$. Let $h\\colon I\\to X$ a path from $x_0$ to $x_1$. Then for $f\\colon I\\to X$ a loop based at $x_1$. Then $\\beta_h[f] = [hfh^{-1}] = [h][f][h]^{-1} = [f][h][h]^{-1} = [f]$, where the last equality comes from the communitativity of the group. The value of $\\beta_h[f]$ if independant of $h$. \n",
    "\n",
    "($\\Longleftarrow$)\n",
    "\n",
    "Let $[f],[g]$ elements of $\\pi_1(X, x_0)$. $f$ as a loop at $x_0$ induces a basepoint-change function $\\beta_f$ from $x_0$ to $x_0$ and $\\beta_f[g] := [fgf^{-1}]$. Consider $c_{x_0}$ the constant path at $x_0$ then $\\beta_{c_{x_0}}[g] = [g]$. By hypothesis, $[fgf^{-1}] = [g]$. Right composing each side by $[f]$, we have $[fg] = [gf]$ as desired. \n",
    "\n",
    "</div>"
   ]
  },
  {
   "cell_type": "markdown",
   "id": "487bef52",
   "metadata": {},
   "source": [
    "**4.** \n",
    "\n",
    "A subspace $X\\subset \\mathbb{R}^n$ is said to be *star-shaped* if there is a point $x_0\\in X$ such that, for each $x\\in X$, the line segment from $x_0$ to $x$ lies in $X$. Show that if a subspace $X\\subset \\mathbb{R}^n$ is locally star-shaped, in the sense that every point of $X$ has a star-shaped neighborhood in $X$, then every path in $X$ is homotopic in $X$ to a piecewise linear  path, that is, a path consisting of a finite number of straight line segments traversed  at constant speed. Show this applies in particular when $X$ is open or when $X$ is a  union of finitely many closed convex sets."
   ]
  },
  {
   "cell_type": "markdown",
   "id": "0f3689a3",
   "metadata": {},
   "source": [
    "<div style=\"background:#eef9ff; padding:10px; border-radius:4px; margin-top:8px;\">\n",
    "<strong>Solution :</strong><br>\n",
    "\n",
    "There are three questions. \n",
    "\n",
    "(1)\n",
    "\n",
    "Let $f: I\\to X$ a path in $X$. \n",
    "\n",
    "We will borrow the idea of the proof to *Lemma 1.15* in the book, to find a partition $0=s_0<s_1<...<s_m=1$ of $I$ such that each subinterval $[s_{i-1}, s_i]$ is mapped by $f$ to $A_i$ a star-shaped subspace. \n",
    "\n",
    "More precisely, let $s\\in I$, then $f(s)\\in X$ has a star-shaped neighborhood $A_{s}$. Then there is an open interval $B_s\\subset \\mathbb{R}$ containing $x$ and $f(\\overline{B_s \\cap I}) \\subset A_s$. \n",
    "\n",
    "- Why? There is an open set $V$ of $X$, such that $f(s)\\in V \\subset A_s$. Then $f^{-1}(V)$ is an open set in $I$ containing $s$. There is an open ball (open interval) $B\\subset \\mathbb{R}$ centered at $s$ with $B\\cap I \\subset f^{-1}(V)$. By reducing the radius, we can find a open ball $B_s$ whose the closure is still inside $B$. \n",
    "\n",
    "Now $\\bigcup_{s\\in I} B_s \\cap I$ is an open cover of $I$. $I$ being compact, we have $\\bigcup_{i=1}^m B_{s_i}\\cap I = I$ for some $s_i$. And endpoints of the intervals $B_{s_i}\\cap I$ define the desired partition of $I$. \n",
    "\n",
    "Now it suffices to replace each subpath by a piecewise linear path. The composition will still be piecewise linear since we have only finite subpath to operate. \n",
    "\n",
    "Let $g_i\\colon I\\to X$ the function defined by $g_i(t):=f(s_{i-1} + (s_{i} - s_{i-1})t)$. We verify it indeed defines a path (continuous) from $f(s_{i-1})$ to $f(s_i)$. By contruction $g(I) = f([s_{i-1}, s_i])$ lies in a star-shaped subset of $X$, with some basepoint $x_0$. In particlar any line segment connecting $x_0$ to a point of $g(I)$ still lies in X. Denote $l_1\\colon I\\to X$ the line segment from $g(0)$ to $x_0$ and $l_2\\colon I\\to X$ from $x_0$ to $g(1)$. Then we can see that the circle $l_1^{-1}gl_2^{-1}$ is nullhomotopic by $f_t\\colon I\\ni s \\mapsto (1-t)(l_1^{-1}gl_2^{-1})(s) + t x_0 \\in X$. \n",
    "\n",
    "From $l_1^{-1}gl_2^{-1} \\simeq c_{x_0}$ we deduce that $g \\simeq l_1 l_2$, the last being piecewise linear path homotopic to $g$ which complete the proof. \n",
    "\n",
    "._.\n",
    "\n",
    "(2)\n",
    "\n",
    "If $X\\subset \\mathbb{R}^n$ is open. Each point of $X$ has an open ball as neighborhood. Open balls are clearly star-shaped. $X$ is therefore locally star-shaped. \n",
    "\n",
    "(3)\n",
    "\n",
    "We only need to show that $X\\subset\\mathbb{R}$ as finite union of closed convex sets is star-shaped. \n",
    "\n",
    "Let $X = \\bigcup_{j=1}^n C_j$ where $C_k$ are closed convex sets in $\\mathbb{R}^n$. For $x \\in X$, let $K$ be the set of indices $i$ such that $x\\notin C_i$. For such $i$, by closeness of $C_i$, there is $B_i$ an open ball of $\\mathbb{R}^n$ such that $x\\in B_i \\subset \\mathbb{R}^n \\setminus C_i$. \n",
    "Then $X\\cap \\bigcup_{i\\in K} B_i$ is star-shaped. \n",
    "\n",
    "To see that, rewrite $X\\cap \\bigcup_{i\\in K} B_i = \\bigcup_{j=1}^n (C_j \\cap \\bigcup_{i\\in K} B_i)$. For any $y$ in this neighborhood, there is some $j$ such that $y \\in C_j \\cap \\bigcup_{i\\in K} B_i$. This last set bing convex must contain the line segment connecting $x$ and $x$. \n",
    "\n",
    "._.\n",
    "\n",
    "</div>"
   ]
  },
  {
   "cell_type": "markdown",
   "id": "3d3d1336",
   "metadata": {},
   "source": []
  }
 ],
 "metadata": {
  "language_info": {
   "name": "python"
  }
 },
 "nbformat": 4,
 "nbformat_minor": 5
}
